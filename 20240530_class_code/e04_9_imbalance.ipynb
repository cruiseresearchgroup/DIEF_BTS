{
 "cells": [
  {
   "cell_type": "markdown",
   "metadata": {},
   "source": [
    "# top\n",
    "\n",
    "https://pytorch.org/docs/stable/generated/torch.nn.BCEWithLogitsLoss.html\n",
    "\n",
    "read: `pos_weight` in the above link"
   ]
  },
  {
   "cell_type": "code",
   "execution_count": 1,
   "metadata": {},
   "outputs": [
    {
     "name": "stderr",
     "output_type": "stream",
     "text": [
      "/Users/arianprabowo/anaconda3/envs/dief3/lib/python3.8/site-packages/tqdm/auto.py:21: TqdmWarning: IProgress not found. Please update jupyter and ipywidgets. See https://ipywidgets.readthedocs.io/en/stable/user_install.html\n",
      "  from .autonotebook import tqdm as notebook_tqdm\n"
     ]
    }
   ],
   "source": [
    "import os, sys\n",
    "import pickle\n",
    "import numpy as np\n",
    "import pandas as pd\n",
    "import scipy.stats\n",
    "import matplotlib.pyplot as plt\n",
    "\n",
    "from tqdm.auto import tqdm\n",
    "import sklearn.metrics\n",
    "import sklearn.linear_model\n",
    "\n",
    "sys.path.append('..')\n",
    "import diefComp1Utils as util\n"
   ]
  },
  {
   "cell_type": "code",
   "execution_count": 2,
   "metadata": {},
   "outputs": [],
   "source": [
    "folderPath = '/Users/arianprabowo/Library/CloudStorage/OneDrive-UNSW/root/DIEF/raw data/e04_splits/'\n",
    "pathTrainX = folderPath+'train_X/'\n",
    "pathTrainY = folderPath+'train_Y.csv'\n",
    "pathTestX = folderPath+'test_X/'\n",
    "pathTestY = folderPath+'test_Y.csv'"
   ]
  },
  {
   "cell_type": "markdown",
   "metadata": {},
   "source": [
    "# load"
   ]
  },
  {
   "cell_type": "code",
   "execution_count": 3,
   "metadata": {},
   "outputs": [],
   "source": [
    "dfTrainY = pd.read_csv(pathTrainY, index_col=0)\n",
    "aTrny = dfTrainY.iloc[:,3:].values"
   ]
  },
  {
   "cell_type": "code",
   "execution_count": 4,
   "metadata": {},
   "outputs": [
    {
     "data": {
      "text/plain": [
       "(31851, 240)"
      ]
     },
     "execution_count": 4,
     "metadata": {},
     "output_type": "execute_result"
    }
   ],
   "source": [
    "aTrny.shape"
   ]
  },
  {
   "cell_type": "markdown",
   "metadata": {},
   "source": [
    "# all"
   ]
  },
  {
   "cell_type": "code",
   "execution_count": 5,
   "metadata": {},
   "outputs": [
    {
     "name": "stdout",
     "output_type": "stream",
     "text": [
      "1 91680\n",
      "0 77676\n",
      "10 169356\n",
      "-1 7474884\n"
     ]
    }
   ],
   "source": [
    "print(1, (aTrny==1).sum())\n",
    "print(0, (aTrny==0).sum())\n",
    "print(10, (aTrny>=0).sum())\n",
    "print(-1, (aTrny==-1).sum())"
   ]
  },
  {
   "cell_type": "code",
   "execution_count": 6,
   "metadata": {},
   "outputs": [
    {
     "data": {
      "text/plain": [
       "44.137107631261955"
      ]
     },
     "execution_count": 6,
     "metadata": {},
     "output_type": "execute_result"
    }
   ],
   "source": [
    "7474884 / 169356"
   ]
  },
  {
   "cell_type": "code",
   "execution_count": 7,
   "metadata": {},
   "outputs": [
    {
     "data": {
      "text/plain": [
       "81.53232984293194"
      ]
     },
     "execution_count": 7,
     "metadata": {},
     "output_type": "execute_result"
    }
   ],
   "source": [
    "7474884 / 91680"
   ]
  },
  {
   "cell_type": "markdown",
   "metadata": {},
   "source": [
    "# per class"
   ]
  },
  {
   "cell_type": "code",
   "execution_count": 8,
   "metadata": {},
   "outputs": [
    {
     "data": {
      "text/plain": [
       "array([8.52197309e+00, 2.42785714e+01, 1.09593750e+02, 2.15673469e+02,\n",
       "       4.60608696e+02, 2.42785714e+01, 4.16385542e+01, 1.23905882e+02,\n",
       "       0.00000000e+00, 1.76850000e+03, 1.76850000e+03, 1.57990506e+01,\n",
       "       2.31845103e+01, 1.31712500e+02, 0.00000000e+00, 1.19951040e+01,\n",
       "       3.78178571e+02, 6.88486842e+01, 6.00172414e+01, 2.39225352e+01,\n",
       "       2.39225352e+01, 2.20303688e+01, 3.78178571e+02, 0.00000000e+00,\n",
       "       3.41556291e+01, 1.09593750e+02, 1.59863636e+02, 2.07176471e+02,\n",
       "       1.04118812e+02, 2.07176471e+02, 1.62338462e+02, 4.81590909e+02,\n",
       "       1.25392857e+02, 1.84807339e+01, 3.31382637e+01, 5.29850000e+02,\n",
       "       2.39225352e+01, 2.65325000e+03, 6.18224852e+01, 6.37378049e+01,\n",
       "       2.80081967e+01, 0.00000000e+00, 1.06160000e+04, 3.34707792e+01,\n",
       "       2.24893617e+02, 6.62562500e+02, 3.71906475e+01, 1.70561224e+01,\n",
       "       1.32612500e+03, 1.51571429e+03, 2.34933333e+02, 7.22206897e+01,\n",
       "       2.15673469e+02, 0.00000000e+00, 8.74750000e+01, 2.65325000e+03,\n",
       "       4.23680000e+02, 4.16385542e+01, 1.23905882e+02, 4.28719008e+01,\n",
       "       1.30074074e+02, 1.31712500e+02, 1.59863636e+02, 2.62930591e+01,\n",
       "       3.63838028e+01, 6.10167224e+00, 3.32483871e+01, 5.96685714e+01,\n",
       "       1.46458333e+02, 1.97769080e+01, 1.78949153e+02, 8.32619048e+01,\n",
       "       4.60608696e+02, 4.81590909e+02, 1.01086538e+02, 5.18208955e+01,\n",
       "       1.89193246e+01, 2.12578616e+01, 2.72367021e+01, 3.21781250e+01,\n",
       "       7.22206897e+01, 6.00172414e+01, 3.67829181e+01, 1.23905882e+02,\n",
       "       5.93238636e+01, 4.16385542e+01, 8.82184874e+01, 6.62562500e+02,\n",
       "       2.39225352e+01, 2.65325000e+03, 6.18224852e+01, 6.37378049e+01,\n",
       "       1.48535211e+02, 3.39243421e+01, 0.00000000e+00, 2.07176471e+02,\n",
       "       1.07336735e+02, 1.70241935e+02, 3.71906475e+01, 0.00000000e+00,\n",
       "       3.48682432e+01, 0.00000000e+00, 1.02077670e+02, 1.76850000e+03,\n",
       "       4.81590909e+02, 0.00000000e+00, 6.00172414e+01, 1.78244681e+01,\n",
       "       2.80081967e+01, 0.00000000e+00, 0.00000000e+00, 6.00172414e+01,\n",
       "       9.73055556e+01, 2.98633721e+01, 3.31382637e+01, 6.00172414e+01,\n",
       "       3.53800000e+03, 1.25392857e+02, 3.99922780e+01, 3.80330882e+01,\n",
       "       0.00000000e+00, 3.53800000e+03, 6.62562500e+02, 3.53800000e+03,\n",
       "       3.99922780e+01, 3.53800000e+03, 1.25392857e+02, 3.99922780e+01,\n",
       "       3.53595890e+01, 4.60608696e+02, 6.62562500e+02, 3.99922780e+01,\n",
       "       5.18208955e+01, 2.98633721e+01, 1.09158249e+01, 2.65325000e+03,\n",
       "       4.81590909e+02, 3.51122449e+01, 2.65325000e+03, 3.02342857e+02,\n",
       "       3.28121019e+01, 2.51785714e+02, 1.36883117e+02, 3.28121019e+01,\n",
       "       3.28121019e+01, 2.62930591e+01, 6.00172414e+01, 1.09158249e+01,\n",
       "       3.78178571e+02, 4.81590909e+02, 4.60608696e+02, 3.78178571e+02,\n",
       "       9.37946429e+01, 4.53624454e+01, 7.94318182e+01, 4.53624454e+01,\n",
       "       3.33592233e+01, 5.83128492e+01, 8.82184874e+01, 4.07346154e+02,\n",
       "       1.45446559e+01, 6.20284939e+00, 0.00000000e+00, 1.06160000e+04,\n",
       "       5.29850000e+02, 1.47756315e+01, 1.06160000e+04, 3.51122449e+01,\n",
       "       5.88075178e+00, 2.99533528e+01, 4.95571429e+01, 1.62338462e+02,\n",
       "       1.08453608e+02, 3.74673913e+01, 4.41375000e+02, 8.42895204e+00,\n",
       "       1.02077670e+02, 7.06800000e+02, 2.65325000e+03, 0.00000000e+00,\n",
       "       4.81590909e+02, 4.81590909e+02, 4.83813953e+01, 1.25392857e+02,\n",
       "       8.00458015e+01, 0.00000000e+00, 2.93342857e+01, 3.70537634e+01,\n",
       "       2.62930591e+01, 9.69758813e-01, 8.29684764e+00, 3.36960784e+01,\n",
       "       3.36960784e+01, 4.60608696e+02, 2.78394737e+02, 3.70537634e+01,\n",
       "       4.07346154e+02, 5.73351648e+01, 5.57789474e+02, 9.46486486e+01,\n",
       "       6.62562500e+02, 0.00000000e+00, 4.20441176e+00, 4.23680000e+02,\n",
       "       9.46486486e+01, 6.62562500e+02, 6.62562500e+02, 3.67829181e+01,\n",
       "       1.14402174e+02, 1.25392857e+02, 2.65325000e+03, 0.00000000e+00,\n",
       "       1.46458333e+02, 2.01073559e+01, 2.01073559e+01, 9.64181818e+02,\n",
       "       1.15670330e+02, 1.97363281e+01, 1.28603133e+01, 1.64049180e+01,\n",
       "       1.48535211e+02, 0.00000000e+00, 3.41483871e+02, 1.89193246e+01,\n",
       "       8.32619048e+01, 1.84807339e+01, 1.09158249e+01, 1.98176471e+01,\n",
       "       2.34068966e+01, 3.51122449e+01, 3.11264706e+02, 1.92036364e+02,\n",
       "       6.61962025e+01, 1.25392857e+02, 4.07346154e+02, 2.78394737e+02,\n",
       "       2.51785714e+02, 1.11946809e+02, 1.76850000e+03, 2.16375267e+01])"
      ]
     },
     "execution_count": 8,
     "metadata": {},
     "output_type": "execute_result"
    }
   ],
   "source": [
    "ar = np.zeros(240)\n",
    "for i in range(240):\n",
    "    npos = (aTrny[:,i]>=0).sum()\n",
    "    nneg = (aTrny[:,i]==-1).sum()\n",
    "    if npos!=0:\n",
    "        ar[i] = nneg/npos\n",
    "ar"
   ]
  },
  {
   "cell_type": "code",
   "execution_count": 9,
   "metadata": {},
   "outputs": [
    {
     "name": "stdout",
     "output_type": "stream",
     "text": [
      "10616.0\n",
      "436.7866464972475\n",
      "62.78014504257469\n"
     ]
    }
   ],
   "source": [
    "print(ar.max())\n",
    "print(ar.mean())\n",
    "print(np.median(ar))"
   ]
  },
  {
   "cell_type": "code",
   "execution_count": 10,
   "metadata": {},
   "outputs": [
    {
     "data": {
      "image/png": "[encoded data removed]",
      "text/plain": [
       "<Figure size 640x480 with 1 Axes>"
      ]
     },
     "metadata": {},
     "output_type": "display_data"
    }
   ],
   "source": [
    "plt.hist(ar,bins=20);"
   ]
  },
  {
   "cell_type": "code",
   "execution_count": 11,
   "metadata": {},
   "outputs": [
    {
     "name": "stdout",
     "output_type": "stream",
     "text": [
      "0\n",
      "0\n",
      "0\n",
      "0\n",
      "0\n",
      "0\n",
      "0\n",
      "0\n",
      "0\n",
      "0\n",
      "0\n",
      "0\n",
      "0\n",
      "0\n",
      "0\n",
      "0\n",
      "0\n",
      "0\n",
      "1\n",
      "4\n",
      "6\n",
      "6\n",
      "6\n",
      "8\n",
      "8\n",
      "9\n",
      "11\n",
      "11\n",
      "11\n",
      "12\n",
      "13\n",
      "15\n",
      "15\n",
      "16\n",
      "16\n",
      "17\n",
      "18\n",
      "18\n",
      "18\n",
      "19\n",
      "19\n",
      "20\n",
      "20\n",
      "20\n",
      "20\n",
      "20\n",
      "21\n",
      "22\n",
      "22\n",
      "23\n",
      "23\n",
      "24\n",
      "24\n",
      "24\n",
      "24\n",
      "24\n",
      "24\n",
      "26\n",
      "26\n",
      "26\n",
      "27\n",
      "28\n",
      "28\n",
      "29\n",
      "30\n",
      "30\n",
      "30\n",
      "32\n",
      "33\n",
      "33\n",
      "33\n",
      "33\n",
      "33\n",
      "33\n",
      "33\n",
      "33\n",
      "34\n",
      "34\n",
      "34\n",
      "34\n",
      "35\n",
      "35\n",
      "35\n",
      "35\n",
      "35\n",
      "36\n",
      "37\n",
      "37\n",
      "37\n",
      "37\n",
      "37\n",
      "37\n",
      "37\n",
      "38\n",
      "40\n",
      "40\n",
      "40\n",
      "40\n",
      "42\n",
      "42\n",
      "42\n",
      "43\n",
      "45\n",
      "45\n",
      "48\n",
      "50\n",
      "52\n",
      "52\n",
      "57\n",
      "58\n",
      "59\n",
      "60\n",
      "60\n",
      "60\n",
      "60\n",
      "60\n",
      "60\n",
      "60\n",
      "62\n",
      "62\n",
      "64\n",
      "64\n",
      "66\n",
      "69\n",
      "72\n",
      "72\n",
      "79\n",
      "80\n",
      "83\n",
      "83\n",
      "87\n",
      "88\n",
      "88\n",
      "94\n",
      "95\n",
      "95\n",
      "97\n",
      "101\n",
      "102\n",
      "102\n",
      "104\n",
      "107\n",
      "108\n",
      "110\n",
      "110\n",
      "112\n",
      "114\n",
      "116\n",
      "124\n",
      "124\n",
      "124\n",
      "125\n",
      "125\n",
      "125\n",
      "125\n",
      "125\n",
      "125\n",
      "130\n",
      "132\n",
      "132\n",
      "137\n",
      "146\n",
      "146\n",
      "149\n",
      "149\n",
      "160\n",
      "160\n",
      "162\n",
      "162\n",
      "170\n",
      "179\n",
      "192\n",
      "207\n",
      "207\n",
      "207\n",
      "216\n",
      "216\n",
      "225\n",
      "235\n",
      "252\n",
      "252\n",
      "278\n",
      "278\n",
      "302\n",
      "311\n",
      "341\n",
      "378\n",
      "378\n",
      "378\n",
      "378\n",
      "407\n",
      "407\n",
      "407\n",
      "424\n",
      "424\n",
      "441\n",
      "461\n",
      "461\n",
      "461\n",
      "461\n",
      "461\n",
      "482\n",
      "482\n",
      "482\n",
      "482\n",
      "482\n",
      "482\n",
      "482\n",
      "530\n",
      "530\n",
      "558\n",
      "663\n",
      "663\n",
      "663\n",
      "663\n",
      "663\n",
      "663\n",
      "663\n",
      "707\n",
      "964\n",
      "1326\n",
      "1516\n",
      "1768\n",
      "1768\n",
      "1768\n",
      "1768\n",
      "2653\n",
      "2653\n",
      "2653\n",
      "2653\n",
      "2653\n",
      "2653\n",
      "2653\n",
      "3538\n",
      "3538\n",
      "3538\n",
      "3538\n",
      "10616\n",
      "10616\n",
      "10616\n"
     ]
    }
   ],
   "source": [
    "for iar in np.sort(ar):\n",
    "    print(round(iar))"
   ]
  },
  {
   "cell_type": "markdown",
   "metadata": {},
   "source": [
    "# bot"
   ]
  },
  {
   "cell_type": "code",
   "execution_count": null,
   "metadata": {},
   "outputs": [],
   "source": []
  }
 ],
 "metadata": {
  "kernelspec": {
   "display_name": "AENeff",
   "language": "python",
   "name": "python3"
  },
  "language_info": {
   "codemirror_mode": {
    "name": "ipython",
    "version": 3
   },
   "file_extension": ".py",
   "mimetype": "text/x-python",
   "name": "python",
   "nbconvert_exporter": "python",
   "pygments_lexer": "ipython3",
   "version": "3.8.16"
  }
 },
 "nbformat": 4,
 "nbformat_minor": 2
}
